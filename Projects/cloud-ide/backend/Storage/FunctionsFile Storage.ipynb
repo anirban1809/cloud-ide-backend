{
 "cells": [
  {
   "cell_type": "code",
   "execution_count": 2,
   "metadata": {},
   "outputs": [],
   "source": [
    "#Single Level Directory"
   ]
  },
  {
   "cell_type": "code",
   "execution_count": 3,
   "metadata": {},
   "outputs": [],
   "source": [
    "directories = []\n",
    "files = []\n",
    "path=\"\""
   ]
  },
  {
   "cell_type": "code",
   "execution_count": 4,
   "metadata": {},
   "outputs": [],
   "source": [
    "\n",
    "def display_dir(path):\n",
    "    dir_count = 0\n",
    "    file_count = 0\n",
    "    print(\"--------------\")\n",
    "    for i in directories:\n",
    "        if(path==i[0]):\n",
    "            print(i[1])\n",
    "            dir_count=dir_count+1\n",
    "        \n",
    "    for i in files:\n",
    "        if(path==i[0]):\n",
    "            print(i[1])\n",
    "            file_count=file_count+1\n",
    "    print(\"\\n\",\"Total number of directories:\",dir_count)\n",
    "    print(\"Total number of files:\",file_count)\n",
    "        \n",
    "\n",
    "        \n",
    "def create_dir(path,dir_name):\n",
    "    directories.append((path,dir_name))\n",
    "    \n",
    "def dir_exists(path,dir_name):\n",
    "    flag=False\n",
    "    for i in directories:\n",
    "        if(i[0]==path and i[1]==dir_name):\n",
    "            flag=True\n",
    "    return flag"
   ]
  },
  {
   "cell_type": "code",
   "execution_count": 5,
   "metadata": {},
   "outputs": [
    {
     "name": "stdout",
     "output_type": "stream",
     "text": [
      "/>ls\n",
      "--------------\n",
      "\n",
      " Total number of directories: 0\n",
      "Total number of files: 0\n",
      "/>cd\n",
      "Enter directory name:text\n",
      "Directory does not exist!\n",
      "/>mkdir\n",
      "Enter directory name:text\n",
      "/>ls\n",
      "--------------\n",
      "text\n",
      "\n",
      " Total number of directories: 1\n",
      "Total number of files: 0\n",
      "/>touch\n",
      "Enter file name:sample.txt\n",
      "/>ls\n",
      "--------------\n",
      "text\n",
      "sample.txt\n",
      "\n",
      " Total number of directories: 1\n",
      "Total number of files: 1\n",
      "/>exit\n"
     ]
    }
   ],
   "source": [
    "command=\"idle\"\n",
    "path=\"/\"\n",
    "present_dir=\"/\"\n",
    "while(command!=\"exit\"):   \n",
    "    command=input(path+\">\")\n",
    "    if(command==\"ls\"):\n",
    "        display_dir(path)\n",
    "    elif(command=='mkdir'):\n",
    "        dir_name=input(\"Enter directory name:\")\n",
    "        create_dir(path,dir_name)\n",
    "    elif(command==\"touch\"):\n",
    "        file_name = input(\"Enter file name:\")\n",
    "        files.append((path,file_name))\n",
    "    elif(command==\"cd\"):\n",
    "        dir_name = input(\"Enter directory name:\")\n",
    "        present_dir=dir_name\n",
    "        if(dir_exists(path,dir_name)==True):\n",
    "            path=path+\"/\"+dir_name\n",
    "        else:\n",
    "            print(\"Directory does not exist!\")\n",
    "    elif(command==\"..\"):\n",
    "        if(path == \"/\"):\n",
    "            continue\n",
    "        else:\n",
    "            x=path.split('/')\n",
    "            x.remove(x[len(x)-1])\n",
    "            path='/'.join(x)\n",
    "        \n",
    "        "
   ]
  },
  {
   "cell_type": "code",
   "execution_count": null,
   "metadata": {},
   "outputs": [],
   "source": []
  }
 ],
 "metadata": {
  "kernelspec": {
   "display_name": "Python 3",
   "language": "python",
   "name": "python3"
  },
  "language_info": {
   "codemirror_mode": {
    "name": "ipython",
    "version": 3
   },
   "file_extension": ".py",
   "mimetype": "text/x-python",
   "name": "python",
   "nbconvert_exporter": "python",
   "pygments_lexer": "ipython3",
   "version": "3.6.7"
  }
 },
 "nbformat": 4,
 "nbformat_minor": 2
}
